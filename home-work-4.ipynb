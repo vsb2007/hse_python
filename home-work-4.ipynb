{
 "cells": [
  {
   "metadata": {},
   "cell_type": "markdown",
   "source": [
    "# Задание\n",
    "не совсем понятно задание, но сделал так: "
   ],
   "id": "f9db40d178df2717"
  },
  {
   "cell_type": "code",
   "id": "initial_id",
   "metadata": {
    "collapsed": true,
    "ExecuteTime": {
     "end_time": "2024-12-11T16:05:55.168121Z",
     "start_time": "2024-12-11T16:05:55.021555Z"
    }
   },
   "source": [
    "import json\n",
    "\n",
    "file_path = 'purchase_log.txt'\n",
    "count_string = 3\n",
    "purchases = {}\n",
    "with open(file=file_path, mode='r', encoding='utf-8') as file:\n",
    "    i = 0\n",
    "    for line in file:\n",
    "        line_json = json.loads(line)\n",
    "        purchases[line_json['user_id']] = line_json['category']\n",
    "    for key, value in purchases.items():\n",
    "        print(f\"{key} '{value}'\")\n",
    "        i+=1\n",
    "        if i == count_string:\n",
    "            break\n",
    "        "
   ],
   "outputs": [
    {
     "name": "stdout",
     "output_type": "stream",
     "text": [
      "user_id 'category'\n",
      "1840e0b9d4 'Продукты'\n",
      "4e4f90fcfb 'Электроника'\n"
     ]
    }
   ],
   "execution_count": 14
  },
  {
   "metadata": {},
   "cell_type": "markdown",
   "source": "# Задание 2",
   "id": "40e6df48735a2739"
  },
  {
   "metadata": {
    "ExecuteTime": {
     "end_time": "2024-12-11T16:05:50.205407Z",
     "start_time": "2024-12-11T16:05:50.199592Z"
    }
   },
   "cell_type": "code",
   "source": [
    "# file_path_visit_log = 'visit_log (2).csv'\n",
    "# with open(file=file_path_visit_log, mode='r', encoding='utf-8') as file:\n",
    "#     i = 0\n",
    "#     for line in file:\n",
    "#         line_json = json.loads(line)\n",
    "#         purchases[line_json['user_id']] = line_json['category']\n"
   ],
   "id": "121bd51b41370e2a",
   "outputs": [],
   "execution_count": 13
  }
 ],
 "metadata": {
  "kernelspec": {
   "display_name": "Python 3",
   "language": "python",
   "name": "python3"
  },
  "language_info": {
   "codemirror_mode": {
    "name": "ipython",
    "version": 2
   },
   "file_extension": ".py",
   "mimetype": "text/x-python",
   "name": "python",
   "nbconvert_exporter": "python",
   "pygments_lexer": "ipython2",
   "version": "2.7.6"
  }
 },
 "nbformat": 4,
 "nbformat_minor": 5
}
