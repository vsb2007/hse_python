{
 "cells": [
  {
   "metadata": {},
   "cell_type": "markdown",
   "source": "# Задание 1",
   "id": "f9db40d178df2717"
  },
  {
   "cell_type": "code",
   "id": "initial_id",
   "metadata": {
    "collapsed": true,
    "ExecuteTime": {
     "end_time": "2024-11-30T17:17:54.079317Z",
     "start_time": "2024-11-30T17:17:54.071384Z"
    }
   },
   "source": [
    "def get_geo_points(ids):\n",
    "    unique_ids = set()\n",
    "    for user in ids:\n",
    "        for id in ids[user]:\n",
    "            if id not in unique_ids:\n",
    "                unique_ids.add(id)\n",
    "    if len(unique_ids) == 0:\n",
    "        return None\n",
    "    return unique_ids\n",
    "\n",
    "\n",
    "ids = {'user1': [213, 213, 213, 15, 213],\n",
    "       'user2': [54, 54, 119, 119, 119],\n",
    "       'user3': [213, 98, 98, 35]}\n",
    "unique_ids = get_geo_points(ids)\n",
    "print(unique_ids)\n"
   ],
   "outputs": [
    {
     "name": "stdout",
     "output_type": "stream",
     "text": [
      "{98, 35, 15, 213, 54, 119}\n"
     ]
    }
   ],
   "execution_count": 22
  },
  {
   "metadata": {},
   "cell_type": "markdown",
   "source": "# Задание 2",
   "id": "40e6df48735a2739"
  },
  {
   "metadata": {
    "ExecuteTime": {
     "end_time": "2024-11-30T17:40:48.109193Z",
     "start_time": "2024-11-30T17:40:48.103540Z"
    }
   },
   "cell_type": "code",
   "source": [
    "\n",
    "def get_queries_length_percents(queries):\n",
    "    queries_length_count = {}\n",
    "    total_queries = len(queries)\n",
    "    for query in queries:\n",
    "        length = len(query.split(' '))\n",
    "        if length in queries_length_count:\n",
    "            queries_length_count[length] += 1\n",
    "        else:\n",
    "            queries_length_count[length] = 1\n",
    "            \n",
    "    for length in sorted(queries_length_count):\n",
    "        print(f\"Поисковых запросов, содержащих {length} слов(а): {round(queries_length_count[length]*100/total_queries,2)}%\")\n",
    "\n",
    "\n",
    "queries = [\n",
    "    'смотреть сериалы онлайн',\n",
    "    'новости спорта',\n",
    "    'афиша кино',\n",
    "    'курс доллара',\n",
    "    'сериалы этим летом',\n",
    "    'курс по питону',\n",
    "    'сериалы про спорт',\n",
    "]\n",
    "get_queries_length_percents(queries)"
   ],
   "id": "121bd51b41370e2a",
   "outputs": [
    {
     "name": "stdout",
     "output_type": "stream",
     "text": [
      "Поисковых запросов, содержащих 2 слов(а): 42.86%\n",
      "Поисковых запросов, содержащих 3 слов(а): 57.14%\n"
     ]
    }
   ],
   "execution_count": 34
  }
 ],
 "metadata": {
  "kernelspec": {
   "display_name": "Python 3",
   "language": "python",
   "name": "python3"
  },
  "language_info": {
   "codemirror_mode": {
    "name": "ipython",
    "version": 2
   },
   "file_extension": ".py",
   "mimetype": "text/x-python",
   "name": "python",
   "nbconvert_exporter": "python",
   "pygments_lexer": "ipython2",
   "version": "2.7.6"
  }
 },
 "nbformat": 4,
 "nbformat_minor": 5
}
