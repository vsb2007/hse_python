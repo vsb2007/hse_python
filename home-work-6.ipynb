{
 "cells": [
  {
   "metadata": {},
   "cell_type": "markdown",
   "source": "",
   "id": "98f621b5078bf778"
  },
  {
   "metadata": {
    "ExecuteTime": {
     "end_time": "2024-12-28T14:28:57.098519Z",
     "start_time": "2024-12-28T14:28:57.091056Z"
    }
   },
   "cell_type": "code",
   "source": [
    "from datetime import datetime\n",
    "\n",
    "\n",
    "class Account:\n",
    "    # имя; стартовый баланс с которым зарегистрирован аккаунт; история операций*\n",
    "    account_name: \"\"\n",
    "    account_balance: 0.0\n",
    "    account_transactions: []\n",
    "\n",
    "    def __init__(self, account_name, account_balance, account_transactions):\n",
    "        self.account_name = str(account_name)\n",
    "        if account_balance is not None:\n",
    "            self.account_balance = account_balance\n",
    "        else:\n",
    "            self.account_balance = 0.0\n",
    "        if account_transactions is not None:\n",
    "            self.account_transactions = account_transactions\n",
    "        else: self.account_transactions = []\n",
    "\n",
    "    def deposit(self, amount):\n",
    "        if amount > 0:\n",
    "            self.account_balance = self.account_balance + amount\n",
    "            transaction = {\"amount\": amount,\n",
    "                           \"operation\": \"deposit\",\n",
    "                           \"date\": str(datetime.now())}\n",
    "            self.account_transactions.append(transaction)\n",
    "            return True\n",
    "        return False\n",
    "\n",
    "    def withdraw(self, amount):\n",
    "        if amount > 0:\n",
    "            if self.account_balance >= amount:\n",
    "                self.account_balance = self.account_balance - amount\n",
    "                transaction = {\"amount\": amount,\n",
    "                               \"operation\": \"withdraw\",\n",
    "                               \"date\": str(datetime.now())}\n",
    "                self.account_transactions.append(transaction)\n",
    "                return True\n",
    "        return False\n",
    "\n",
    "account_1 = Account(\"Bob\", 0, None)\n",
    "print(account_1.deposit(100))\n",
    "print(account_1.withdraw(50))\n",
    "print(account_1.withdraw(150))\n",
    "print(account_1.account_balance)\n",
    "print(str(account_1.account_transactions))"
   ],
   "id": "9e29a35f8466d20f",
   "outputs": [
    {
     "name": "stdout",
     "output_type": "stream",
     "text": [
      "True\n",
      "True\n",
      "False\n",
      "50\n",
      "[{'amount': 100, 'operation': 'deposit', 'date': '2024-12-28 17:28:57.095756'}, {'amount': 50, 'operation': 'withdraw', 'date': '2024-12-28 17:28:57.096072'}]\n"
     ]
    }
   ],
   "execution_count": 24
  },
  {
   "metadata": {},
   "cell_type": "code",
   "outputs": [],
   "execution_count": null,
   "source": "",
   "id": "3a589d1827bb3643"
  }
 ],
 "metadata": {
  "kernelspec": {
   "display_name": "Python 3",
   "language": "python",
   "name": "python3"
  },
  "language_info": {
   "codemirror_mode": {
    "name": "ipython",
    "version": 2
   },
   "file_extension": ".py",
   "mimetype": "text/x-python",
   "name": "python",
   "nbconvert_exporter": "python",
   "pygments_lexer": "ipython2",
   "version": "2.7.6"
  }
 },
 "nbformat": 4,
 "nbformat_minor": 5
}
