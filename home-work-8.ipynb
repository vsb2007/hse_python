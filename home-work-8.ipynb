{
 "cells": [
  {
   "metadata": {},
   "cell_type": "markdown",
   "source": "",
   "id": "98f621b5078bf778"
  },
  {
   "metadata": {
    "ExecuteTime": {
     "end_time": "2025-01-20T18:57:56.950218Z",
     "start_time": "2025-01-20T18:57:56.279944Z"
    }
   },
   "cell_type": "code",
   "source": [
    "import requests\n",
    "\n",
    "response = requests.get('https://jsonplaceholder.typicode.com/posts')\n",
    "response.raise_for_status()\n",
    "if response.status_code == 200:\n",
    "    i = 0\n",
    "    for post in response.json():\n",
    "        i = i + 1\n",
    "        print(f\"{i} title:{post['title']}\")\n",
    "        print(f\"{i} body: {post['body']}\")\n",
    "        if i == 5:\n",
    "            break\n",
    "\n",
    "\n"
   ],
   "id": "9e29a35f8466d20f",
   "outputs": [
    {
     "name": "stdout",
     "output_type": "stream",
     "text": [
      "1 title:sunt aut facere repellat provident occaecati excepturi optio reprehenderit\n",
      "1 body: quia et suscipit\n",
      "suscipit recusandae consequuntur expedita et cum\n",
      "reprehenderit molestiae ut ut quas totam\n",
      "nostrum rerum est autem sunt rem eveniet architecto\n",
      "2 title:qui est esse\n",
      "2 body: est rerum tempore vitae\n",
      "sequi sint nihil reprehenderit dolor beatae ea dolores neque\n",
      "fugiat blanditiis voluptate porro vel nihil molestiae ut reiciendis\n",
      "qui aperiam non debitis possimus qui neque nisi nulla\n",
      "3 title:ea molestias quasi exercitationem repellat qui ipsa sit aut\n",
      "3 body: et iusto sed quo iure\n",
      "voluptatem occaecati omnis eligendi aut ad\n",
      "voluptatem doloribus vel accusantium quis pariatur\n",
      "molestiae porro eius odio et labore et velit aut\n",
      "4 title:eum et est occaecati\n",
      "4 body: ullam et saepe reiciendis voluptatem adipisci\n",
      "sit amet autem assumenda provident rerum culpa\n",
      "quis hic commodi nesciunt rem tenetur doloremque ipsam iure\n",
      "quis sunt voluptatem rerum illo velit\n",
      "5 title:nesciunt quas odio\n",
      "5 body: repudiandae veniam quaerat sunt sed\n",
      "alias aut fugiat sit autem sed est\n",
      "voluptatem omnis possimus esse voluptatibus quis\n",
      "est aut tenetur dolor neque\n"
     ]
    }
   ],
   "execution_count": 34
  },
  {
   "metadata": {
    "ExecuteTime": {
     "end_time": "2025-01-20T18:56:37.719342Z",
     "start_time": "2025-01-20T18:56:33.642351Z"
    }
   },
   "cell_type": "code",
   "source": [
    "import requests\n",
    "import env\n",
    "\n",
    "api_key = env.api_key\n",
    "# api_key = \"\"\n",
    "base_url = \"https://api.openweathermap.org/data/2.5/weather\"\n",
    "city = input(\"Введите название города: \")\n",
    "# city = \"Moscow\"\n",
    "# print(api_key)\n",
    "params = {\n",
    "    \"q\": city,\n",
    "    \"appid\": api_key,\n",
    "    \"units\": \"metric\",\n",
    "    \"lang\": \"ru\"\n",
    "}\n",
    "response = requests.get(base_url, params=params)\n",
    "response.raise_for_status()\n",
    "data = response.json()\n",
    "print(data['name'])\n",
    "print(data['main']['temp'])\n",
    "print(data['weather'][0]['description'])"
   ],
   "id": "3a589d1827bb3643",
   "outputs": [
    {
     "name": "stdout",
     "output_type": "stream",
     "text": [
      "Омск\n",
      "-0.06\n",
      "небольшой снег\n"
     ]
    }
   ],
   "execution_count": 33
  }
 ],
 "metadata": {
  "kernelspec": {
   "display_name": "Python 3",
   "language": "python",
   "name": "python3"
  },
  "language_info": {
   "codemirror_mode": {
    "name": "ipython",
    "version": 2
   },
   "file_extension": ".py",
   "mimetype": "text/x-python",
   "name": "python",
   "nbconvert_exporter": "python",
   "pygments_lexer": "ipython2",
   "version": "2.7.6"
  }
 },
 "nbformat": 4,
 "nbformat_minor": 5
}
