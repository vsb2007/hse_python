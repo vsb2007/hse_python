{
 "cells": [
  {
   "metadata": {},
   "cell_type": "markdown",
   "source": [
    "Задание 1\n",
    "\n",
    "The Moscow Times - Wednesday, October 2, 2002\n",
    "\n",
    "The Guardian - Friday, 11.10.13\n",
    "\n",
    "Daily News - Thursday, 18 August 1977"
   ],
   "id": "98f621b5078bf778"
  },
  {
   "metadata": {
    "ExecuteTime": {
     "end_time": "2024-12-14T14:22:50.889340Z",
     "start_time": "2024-12-14T14:22:50.885703Z"
    }
   },
   "cell_type": "code",
   "source": [
    "from datetime import datetime\n",
    "\n",
    "\n",
    "def parse_dates(dates):\n",
    "    # Словарь для хранения объектов datetime\n",
    "    parsed_dates = {}\n",
    "\n",
    "    for newspaper, date_str in dates.items():\n",
    "        if newspaper == \"The Moscow Times\":\n",
    "            # Формат: 'Wednesday, October 2, 2002'\n",
    "            date_obj = datetime.strptime(date_str, \"%A, %B %d, %Y\")\n",
    "        elif newspaper == \"The Guardian\":\n",
    "            # Формат: 'Friday, 11.10.13'\n",
    "            date_obj = datetime.strptime(date_str, \"%A, %d.%m.%y\")\n",
    "        elif newspaper == \"Daily News\":\n",
    "            # Формат: 'Thursday, 18 August 1977'\n",
    "            date_obj = datetime.strptime(date_str, \"%A, %d %B %Y\")\n",
    "        else:\n",
    "            # Если формат неизвестен\n",
    "            continue\n",
    "\n",
    "        parsed_dates[newspaper] = date_obj\n",
    "\n",
    "    return parsed_dates\n",
    "\n",
    "\n",
    "# Вывод результатов\n",
    "dates = {\n",
    "    \"The Moscow Times\": \"Wednesday, October 2, 2002\",\n",
    "    \"The Guardian\": \"Friday, 11.10.13\",\n",
    "    \"Daily News\": \"Thursday, 18 August 1977\"\n",
    "}\n",
    "results = parse_dates(dates)\n",
    "for newspaper, date_obj in results.items():\n",
    "    print(f\"{newspaper}: {date_obj}\")\n"
   ],
   "id": "9e29a35f8466d20f",
   "outputs": [
    {
     "name": "stdout",
     "output_type": "stream",
     "text": [
      "The Moscow Times: 2002-10-02 00:00:00\n",
      "The Guardian: 2013-10-11 00:00:00\n",
      "Daily News: 1977-08-18 00:00:00\n"
     ]
    }
   ],
   "execution_count": 10
  },
  {
   "metadata": {},
   "cell_type": "markdown",
   "source": "Задание 2\n",
   "id": "7c5a5719e5387b8c"
  },
  {
   "metadata": {
    "ExecuteTime": {
     "end_time": "2024-12-14T14:30:37.623478Z",
     "start_time": "2024-12-14T14:30:37.610279Z"
    }
   },
   "cell_type": "code",
   "source": [
    "from datetime import datetime, timedelta\n",
    "\n",
    "\n",
    "def date_range(start_date, end_date):\n",
    "    date_list = []\n",
    "    try:\n",
    "        start = datetime.strptime(start_date, \"%Y-%m-%d\")\n",
    "        end = datetime.strptime(end_date, \"%Y-%m-%d\")\n",
    "\n",
    "        if start > end:\n",
    "            return []\n",
    "        for i in range((end - start).days + 1):\n",
    "            date_list.append((start + timedelta(days=i)).strftime(\"%Y-%m-%d\"))\n",
    "        return date_list\n",
    "\n",
    "    except ValueError:\n",
    "        return []\n",
    "    \n",
    "\n",
    "# date_range('2022-01-01', '2022-01-03')\n",
    "print(date_range('2022-01-29', '2022-02-05'))"
   ],
   "id": "be870575194f92ac",
   "outputs": [
    {
     "name": "stdout",
     "output_type": "stream",
     "text": [
      "['2022-01-29', '2022-01-30', '2022-01-31', '2022-02-01', '2022-02-02', '2022-02-03', '2022-02-04', '2022-02-05']\n"
     ]
    }
   ],
   "execution_count": 16
  }
 ],
 "metadata": {
  "kernelspec": {
   "display_name": "Python 3",
   "language": "python",
   "name": "python3"
  },
  "language_info": {
   "codemirror_mode": {
    "name": "ipython",
    "version": 2
   },
   "file_extension": ".py",
   "mimetype": "text/x-python",
   "name": "python",
   "nbconvert_exporter": "python",
   "pygments_lexer": "ipython2",
   "version": "2.7.6"
  }
 },
 "nbformat": 4,
 "nbformat_minor": 5
}
