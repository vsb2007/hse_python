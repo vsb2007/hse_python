{
 "cells": [
  {
   "metadata": {},
   "cell_type": "markdown",
   "source": "# Задание 1",
   "id": "f9db40d178df2717"
  },
  {
   "cell_type": "code",
   "id": "initial_id",
   "metadata": {
    "collapsed": true,
    "ExecuteTime": {
     "end_time": "2024-11-30T18:01:40.424102Z",
     "start_time": "2024-11-30T18:01:40.419838Z"
    }
   },
   "source": [
    "def sum_distance(_from: int, _to: int):\n",
    "    _sum = 0\n",
    "    if _from > _to:\n",
    "        _tmp = _to\n",
    "        _to = _from\n",
    "        _from = _tmp\n",
    "    for i in range(_from, _to + 1):\n",
    "        # print(i)\n",
    "        _sum = _sum + i\n",
    "\n",
    "    return _sum\n",
    "\n",
    "\n",
    "print(sum_distance(100, 103))\n",
    "print(sum_distance(103, 100))\n"
   ],
   "outputs": [
    {
     "name": "stdout",
     "output_type": "stream",
     "text": [
      "406\n",
      "406\n"
     ]
    }
   ],
   "execution_count": 12
  },
  {
   "metadata": {},
   "cell_type": "markdown",
   "source": "# Задание 2",
   "id": "40e6df48735a2739"
  },
  {
   "metadata": {
    "ExecuteTime": {
     "end_time": "2024-11-30T18:17:20.388837Z",
     "start_time": "2024-11-30T18:17:20.384810Z"
    }
   },
   "cell_type": "code",
   "source": [
    "\n",
    "def trim_and_repeat(_str, offset=0, repetitions=1):\n",
    "    _offset_str = _str[offset:]\n",
    "    return _offset_str * repetitions\n",
    "\n",
    "\n",
    "_str = \"1234\"\n",
    "print(trim_and_repeat(_str))\n",
    "print(trim_and_repeat(_str, 1, 2))\n",
    "print(trim_and_repeat(_str, repetitions=1, offset=1))\n",
    "print(trim_and_repeat(_str, repetitions=2))"
   ],
   "id": "121bd51b41370e2a",
   "outputs": [
    {
     "name": "stdout",
     "output_type": "stream",
     "text": [
      "1234\n",
      "234234\n",
      "234\n",
      "12341234\n"
     ]
    }
   ],
   "execution_count": 29
  }
 ],
 "metadata": {
  "kernelspec": {
   "display_name": "Python 3",
   "language": "python",
   "name": "python3"
  },
  "language_info": {
   "codemirror_mode": {
    "name": "ipython",
    "version": 2
   },
   "file_extension": ".py",
   "mimetype": "text/x-python",
   "name": "python",
   "nbconvert_exporter": "python",
   "pygments_lexer": "ipython2",
   "version": "2.7.6"
  }
 },
 "nbformat": 4,
 "nbformat_minor": 5
}
