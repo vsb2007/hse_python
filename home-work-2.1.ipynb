{
 "cells": [
  {
   "metadata": {},
   "cell_type": "markdown",
   "source": "# Задание 1",
   "id": "f9db40d178df2717"
  },
  {
   "cell_type": "code",
   "id": "initial_id",
   "metadata": {
    "collapsed": true,
    "ExecuteTime": {
     "end_time": "2024-11-15T10:05:31.798914Z",
     "start_time": "2024-11-15T10:05:31.789758Z"
    }
   },
   "source": [
    "def get_central(check_word):\n",
    "    word_len = len(str(check_word))\n",
    "    if word_len == 0:\n",
    "        return None\n",
    "    elif word_len % 2 != 0:\n",
    "        return check_word[word_len // 2]\n",
    "    elif word_len % 2 == 0:\n",
    "        return check_word[word_len // 2 - 1] + check_word[word_len // 2]\n",
    "    else:\n",
    "        return None\n",
    "\n",
    "\n",
    "word = 'test'  #Результат: es\n",
    "word2 = 'testing'  #Результат: t\n",
    "print(get_central(word))\n",
    "print(get_central(word2))"
   ],
   "outputs": [
    {
     "name": "stdout",
     "output_type": "stream",
     "text": [
      "es\n",
      "t\n"
     ]
    }
   ],
   "execution_count": 38
  },
  {
   "metadata": {},
   "cell_type": "markdown",
   "source": "# Задание 2",
   "id": "40e6df48735a2739"
  },
  {
   "metadata": {
    "ExecuteTime": {
     "end_time": "2024-11-15T10:05:12.734027Z",
     "start_time": "2024-11-15T10:05:12.727988Z"
    }
   },
   "cell_type": "code",
   "source": [
    "def get_dating_pairs(boys_array, girls_array):\n",
    "    if type(boys_array) != list or type(girls_array) != list:\n",
    "        return None\n",
    "    if len(boys_array) != len(girls_array):\n",
    "        print(\"Результат: Внимание, кто-то может остаться без пары!\")\n",
    "        return None\n",
    "    if len(boys_array) == len(girls_array):\n",
    "        print(\"Результат:\\nИдеальные пары:\")\n",
    "        boys_sorted = sorted(boys_array)\n",
    "        girls_sorted = sorted(girls_array)\n",
    "        for i in range(len(boys_sorted)):\n",
    "            print(str(boys_sorted[i]) + \" и \" + str(girls_sorted[i]))\n",
    "    return None\n",
    "\n",
    "\n",
    "boys = ['Peter', 'Alex', 'John', 'Arthur', 'Richard']\n",
    "girls = ['Kate', 'Liza', 'Kira', 'Emma', 'Trisha']\n",
    "# girls = ['Kate', 'Liza', 'Kira', 'Emma']\n",
    "get_dating_pairs(boys, girls)"
   ],
   "id": "121bd51b41370e2a",
   "outputs": [
    {
     "name": "stdout",
     "output_type": "stream",
     "text": [
      "Результат:\n",
      "Идеальные пары:\n",
      "Alex и Emma\n",
      "Arthur и Kate\n",
      "John и Kira\n",
      "Peter и Liza\n",
      "Richard и Trisha\n"
     ]
    }
   ],
   "execution_count": 37
  }
 ],
 "metadata": {
  "kernelspec": {
   "display_name": "Python 3",
   "language": "python",
   "name": "python3"
  },
  "language_info": {
   "codemirror_mode": {
    "name": "ipython",
    "version": 2
   },
   "file_extension": ".py",
   "mimetype": "text/x-python",
   "name": "python",
   "nbconvert_exporter": "python",
   "pygments_lexer": "ipython2",
   "version": "2.7.6"
  }
 },
 "nbformat": 4,
 "nbformat_minor": 5
}
